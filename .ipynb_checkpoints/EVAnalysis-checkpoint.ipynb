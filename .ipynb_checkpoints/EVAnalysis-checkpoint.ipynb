version https://git-lfs.github.com/spec/v1
oid sha256:81572a9f284b3e1fcd723ca9010d8b7555973d3bc04333f6d9b2cd20e4a7614c
size 111690849
